{
 "cells": [
  {
   "cell_type": "markdown",
   "id": "9e78c9b4-4260-47be-b655-40c75c837b89",
   "metadata": {},
   "source": [
    "**Git:**\n",
    "  Git es un sistema de control de versiones distribuido que permite el seguimiento de cambios en el código fuente durante el desarrollo de software. Facilita la colaboración entre equipos y el manejo eficiente de ramas y fusiones.\n",
    "\n",
    "**GitHub:**\n",
    "  GitHub es una plataforma de alojamiento de código fuente basada en Git. Permite a los desarrolladores colaborar en proyectos, realizar un seguimiento de cambios, gestionar problemas y facilita la integración continua.\n",
    "\n",
    "**Markdown y sus comandos:**\n",
    "  Markdown es un lenguaje de marcado ligero utilizado para formatear texto de manera sencilla y legible, con una sintaxis que es fácil de aprender. Algunos comandos comunes incluyen encabezados, listas, enlaces, imágenes, entre otros.\n",
    "\n",
    "\n",
    "\n",
    "\n"
   ]
  }
 ],
 "metadata": {
  "kernelspec": {
   "display_name": "Python 3 (ipykernel)",
   "language": "python",
   "name": "python3"
  },
  "language_info": {
   "codemirror_mode": {
    "name": "ipython",
    "version": 3
   },
   "file_extension": ".py",
   "mimetype": "text/x-python",
   "name": "python",
   "nbconvert_exporter": "python",
   "pygments_lexer": "ipython3",
   "version": "3.11.5"
  }
 },
 "nbformat": 4,
 "nbformat_minor": 5
}
