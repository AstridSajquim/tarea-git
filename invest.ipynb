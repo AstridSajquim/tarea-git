{
 "cells": [
  {
   "cell_type": "markdown",
   "id": "9e78c9b4-4260-47be-b655-40c75c837b89",
   "metadata": {},
   "source": [
    "**Git:**\n",
    "  Git es un sistema de control de versiones distribuido que permite el seguimiento de cambios en el código fuente durante el desarrollo de software. Facilita la colaboración entre equipos y el manejo eficiente de ramas y fusiones.\n",
    "\n",
    "**GitHub:**\n",
    "  GitHub es una plataforma de alojamiento de código fuente basada en Git. Permite a los desarrolladores colaborar en proyectos, realizar un seguimiento de cambios, gestionar problemas y facilita la integración continua mediante ramas, entre las buenas prácticas de desarrollo se destaca el uso adecuado de ramas y su versionamiento.\n",
    "\n",
    "**Markdown y sus comandos:**\n",
    "  Markdown es un lenguaje de marcado ligero utilizado para formatear texto de manera sencilla y legible, con una sintaxis que es fácil de aprender. Algunos comandos comunes incluyen encabezados, listas, enlaces, imágenes, entre otros.\n",
    "  \n",
    "# Encabezado 1\n",
    "## Encabezado 2\n",
    "### Encabezado 3\n",
    "\n",
    "**Texto en Negrita**\n",
    "*Texto en Cursiva*\n",
    "\n",
    "- Elemento 1\n",
    "- Elemento 2\n",
    "  - Subelemento A\n",
    "  - Subelemento B\n",
    "\n",
    "[Texto del Enlace](http://www.test.com)\n",
    "\n",
    "\n",
    "**MagicCells**\n",
    "\n",
    "Comandos especiales de Jupyter que no son código python pero afectan el comportamiento del notebook\n",
    "\n",
    "*medir tiempo de ejecución:*\n",
    "\n",
    "%%time\n",
    "for i in range(1000000):\n",
    "    pass\n",
    "*cargar código de archivo externo*\n",
    "%load archivo.py\n",
    "\n",
    "\n",
    "\n",
    "\n",
    "\n",
    "\n",
    "\n",
    "\n"
   ]
  },
  {
   "cell_type": "code",
   "execution_count": 1,
   "id": "ed3f04ea-00c5-4083-b552-e112f34ddbf4",
   "metadata": {
    "tags": []
   },
   "outputs": [
    {
     "name": "stdout",
     "output_type": "stream",
     "text": [
      "CPU times: total: 0 ns\n",
      "Wall time: 44 ms\n"
     ]
    }
   ],
   "source": [
    "%%time\n",
    "for i in range(1000000):\n",
    "    pass\n"
   ]
  },
  {
   "cell_type": "code",
   "execution_count": null,
   "id": "02a095f5-0023-44bf-96e8-59e859585338",
   "metadata": {},
   "outputs": [],
   "source": []
  }
 ],
 "metadata": {
  "kernelspec": {
   "display_name": "Python 3 (ipykernel)",
   "language": "python",
   "name": "python3"
  },
  "language_info": {
   "codemirror_mode": {
    "name": "ipython",
    "version": 3
   },
   "file_extension": ".py",
   "mimetype": "text/x-python",
   "name": "python",
   "nbconvert_exporter": "python",
   "pygments_lexer": "ipython3",
   "version": "3.11.5"
  }
 },
 "nbformat": 4,
 "nbformat_minor": 5
}
